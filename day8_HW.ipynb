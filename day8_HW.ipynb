{
 "cells": [
  {
   "cell_type": "markdown",
   "metadata": {},
   "source": [
    "# day 8_HW :  파일, 예외 처리"
   ]
  },
  {
   "cell_type": "markdown",
   "metadata": {},
   "source": [
    "# 오늘의 과제는 다음의 주제로 이루어져 있습니다.\n",
    "### <주제 1> file I/O , text 파일열기, word counting\n",
    "### <주제 2> 예외 처리,  CSV파일 열기, 데이터 전처리, 딕셔너리 정렬\n"
   ]
  },
  {
   "cell_type": "code",
   "execution_count": null,
   "metadata": {},
   "outputs": [],
   "source": []
  },
  {
   "cell_type": "markdown",
   "metadata": {},
   "source": [
    "### File handling in python\n",
    "- f_var = open (filename, mode)  / f.close()\n",
    "*  or  \n",
    "- with open (filename, mode ) as f_var :  / block\n",
    "* \n",
    "- mode : r,w,a\n",
    "- 'r' mode : readline(), readlines(), read()\n",
    "- file variable (f_var) is iterable in 'for' statement\n",
    "\n",
    "#### csv file\n",
    "- import csv\n",
    "- cursor_var = csv.reader(f_var)\n",
    "- next(cursor_var)"
   ]
  },
  {
   "cell_type": "markdown",
   "metadata": {},
   "source": [
    "# <주제1> file I/O, text 파일열기, word counting"
   ]
  },
  {
   "cell_type": "markdown",
   "metadata": {},
   "source": [
    "__[1] Erin Hanson의 시, \"Not\"입니다. \"not_erin_hanson.txt\" 파일을 읽어서 poem에 저장하세요__"
   ]
  },
  {
   "cell_type": "raw",
   "metadata": {},
   "source": [
    "실행결과:\n",
    ">> poem\n",
    "You are not your age, nor the size of clothes you wear,\n",
    "You are not a weight, or the color of your hair. \n",
    "You are not your name, or the dimples in your cheeks. \n",
    "You are all the books you read, and all the words you speak. \n",
    "You are your croaky morning voice, and the smiles you try to hide. \n",
    "You're the sweetness in your laughter, and every tear you've cried. \n",
    "You're the songs you sing so loudly when you know you're all alone. \n",
    "You're the places that you've been to, and the one that you call home. \n",
    "You're the things that you believe in, and the people whom you love. \n",
    "You're the photos in your bedroom, and the future you dream of. \n",
    "You're made of so much beauty, but it seems that you forgot \n",
    "When you decided that you were defined by all the things you're not."
   ]
  },
  {
   "cell_type": "code",
   "execution_count": null,
   "metadata": {},
   "outputs": [],
   "source": []
  },
  {
   "cell_type": "markdown",
   "metadata": {},
   "source": [
    "__[2] poem을 단어별로 분리하고, 이 시에 나온 단어가 각각 몇 회씩 나오는지 word_cnt 딕셔너리에 저장한 후 출력하세요.__<br>\n",
    " - 단,\"You're\", \"You've\"의 경우, \"You\", \"re\", \"ve\"로 각각 별도로 처리합니다.<br>\n",
    " - i) 딕셔너리를 이용한 for 문 또는 comprehension 방법<br>\n",
    " - ii) Collections module의 Counter class를 사용하는 방법으로 각각 코딩합니다. \n",
    " \n",
    " hint> 불필요한 구둣점 처리, \"you\", \"You\"를 한 개의 단어로 처리(대소문자 처리)하는 등, poem을 여러개의 단어로 분리하기 전에 적절한 전처리가 필요합니다. \n",
    "       \n",
    " \n",
    " "
   ]
  },
  {
   "cell_type": "code",
   "execution_count": null,
   "metadata": {},
   "outputs": [],
   "source": [
    "poem = '''You are not your age, nor the size of clothes you wear,\n",
    "You are not a weight, or the color of your hair. \n",
    "You are not your name, or the dimples in your cheeks. \n",
    "You are all the books you read, and all the words you speak. \n",
    "You are your croaky morning voice, and the smiles you try to hide. \n",
    "You're the sweetness in your laughter, and every tear you've cried. \n",
    "You're the songs you sing so loudly when you know you're all alone. \n",
    "You're the places that you've been to, and the one that you call home. \n",
    "You're the things that you believe in, and the people whom you love. \n",
    "You're the photos in your bedroom, and the future you dream of. \n",
    "You're made of so much beauty, but it seems that you forgot \n",
    "When you decided that you were defined by all the things you're not.'''"
   ]
  },
  {
   "cell_type": "raw",
   "metadata": {},
   "source": [
    "실행결과: word_cnt\n",
    "{'a': 1, 'age': 1, 'all': 4, 'alone': 1, 'and': 6, 'are': 5, 'beauty': 1, 'bedroom': 1, 'been': 1, 'believe': 1, 'books': 1, 'but': 1, 'by': 1, 'call': 1, 'cheeks': 1, 'clothes': 1, 'color': 1, 'cried': 1, 'croaky': 1, 'decided': 1, 'defined': 1, 'dimples': 1, 'dream': 1, 'every': 1, 'forgot': 1, 'future': 1, 'hair': 1, 'hide': 1, 'home': 1, 'in': 4, 'it': 1, 'know': 1, 'laughter': 1, 'loudly': 1, 'love': 1, 'made': 1, 'morning': 1, 'much': 1, 'name': 1, 'nor': 1, 'not': 4, 'of': 4, 'one': 1, 'or': 2, 'people': 1, 'photos': 1, 'places': 1, 're': 8, 'read': 1, 'seems': 1, 'sing': 1, 'size': 1, 'smiles': 1, 'so': 2, 'songs': 1, 'speak': 1, 'sweetness': 1, 'tear': 1, 'that': 5, 'the': 15, 'things': 2, 'to': 2, 'try': 1, 've': 2, 'voice': 1, 'wear': 1, 'weight': 1, 'were': 1, 'when': 2, 'whom': 1, 'words': 1, 'you': 28, 'your': 7}"
   ]
  },
  {
   "cell_type": "code",
   "execution_count": null,
   "metadata": {},
   "outputs": [],
   "source": [
    "# poem 전처리 : 불필요한 구둣점 처리 -> 소문자(대문자) 전환\n"
   ]
  },
  {
   "cell_type": "code",
   "execution_count": null,
   "metadata": {},
   "outputs": [],
   "source": []
  },
  {
   "cell_type": "code",
   "execution_count": null,
   "metadata": {},
   "outputs": [],
   "source": [
    "# 전처리한 poem을 단어로 분리\n"
   ]
  },
  {
   "cell_type": "code",
   "execution_count": null,
   "metadata": {},
   "outputs": [],
   "source": []
  },
  {
   "cell_type": "code",
   "execution_count": null,
   "metadata": {},
   "outputs": [],
   "source": [
    "# 방법1) for loop 또는 dictionary comprehension 이용\n"
   ]
  },
  {
   "cell_type": "code",
   "execution_count": null,
   "metadata": {},
   "outputs": [],
   "source": []
  },
  {
   "cell_type": "code",
   "execution_count": null,
   "metadata": {},
   "outputs": [],
   "source": [
    "# 방법2) Collections의 Counter class를 사용하는 법 \n"
   ]
  },
  {
   "cell_type": "code",
   "execution_count": null,
   "metadata": {},
   "outputs": [],
   "source": []
  },
  {
   "cell_type": "markdown",
   "metadata": {},
   "source": [
    "__[3] poem에서 많이 나타난 상위 5개 단어를 찾아 단어 및 횟수를 출력하세요.__<br>\n",
    "- 단,\"You're\", \"You've\"의 경우, \"You\", \"re\", \"ve\"로 각각 별도로 처리합니다.<br>\n",
    " - i) Counter.most_common()을 사용하는 경우 <br>\n",
    " - ii) sorted()를 사용하는 방법으로 각각 코딩합니다. "
   ]
  },
  {
   "cell_type": "code",
   "execution_count": null,
   "metadata": {},
   "outputs": [],
   "source": [
    "#1)  Counter.most_common()을 사용하는 경우\n",
    "\n"
   ]
  },
  {
   "cell_type": "code",
   "execution_count": null,
   "metadata": {},
   "outputs": [],
   "source": [
    "#2) sorted()를 사용하는 경우\n"
   ]
  },
  {
   "cell_type": "code",
   "execution_count": null,
   "metadata": {},
   "outputs": [],
   "source": []
  },
  {
   "cell_type": "markdown",
   "metadata": {},
   "source": [
    "__[4] poem에 나타난 단어를 글자수로 그룹핑하여 딕셔너리(word_length)로 작성하세요__\n"
   ]
  },
  {
   "cell_type": "raw",
   "metadata": {},
   "source": [
    "실행결과:\n",
    "{1: ['a'],\n",
    " 2: ['so', 'it', 'in', 'or', 're', 've', 'by', 'of', 'to'],\n",
    " 3: ['nor','you', 'and', 'but', 'try', 'one', 'the', 'are', 'not', 'age','all'],\n",
    " 4: ['much', 'been', 'hide', 'when', 'hair', 'size', 'wear', 'know', 'read', 'call', 'made', 'sing', 'tear', 'that', 'were', 'name', 'home', 'your', 'love', 'whom'],\n",
    " 5: ['seems', 'alone', 'speak', 'cried', 'dream', 'color', 'books', 'songs', 'words', 'every', 'voice'],\n",
    " 6: ['loudly', 'people', 'beauty', 'future', 'photos', 'cheeks', 'things', 'forgot', 'weight', 'croaky','smiles', 'places'],\n",
    " 7: ['defined', 'decided', 'bedroom', 'morning', 'believe', 'clothes', 'dimples'],\n",
    " 8: ['laughter'],\n",
    " 9: ['sweetness']}"
   ]
  },
  {
   "cell_type": "code",
   "execution_count": null,
   "metadata": {},
   "outputs": [],
   "source": []
  },
  {
   "cell_type": "code",
   "execution_count": null,
   "metadata": {},
   "outputs": [],
   "source": []
  },
  {
   "cell_type": "markdown",
   "metadata": {},
   "source": [
    "# <주제2> 예외 처리,  CSV파일 열기, 데이터 전처리, 딕셔너리 정렬"
   ]
  },
  {
   "cell_type": "markdown",
   "metadata": {},
   "source": [
    "__[5] LME(런던금속거래소)에서는 여러 가지 비철금속의 현물 거래 시세를 제공하니다. 2021년 1월 비철금속의 날짜별 가격이 \"metal_yyyymmdd.csv\" 형태로 여러 개의 일별 csv파일에 담겨있습니다__<br>\n",
    "-    1) 파일을 차례로 읽은 후 모두 병합하여 metal_HW_name.csv로 저장하세요. (예: metal_HW_홍길동.csv)<br>\n",
    "-    2) 사용자는 어느 날짜의 파일이 누락되었는지 알지 못하며, 1월 1일부터 ~ 1월 31일까지 매일 날짜별 파일을 읽으려고 하되 존재하지 않는 날짜의 파일은 try~except로 예외처리합니다. "
   ]
  },
  {
   "attachments": {
    "image.png": {
     "image/png": "[encoded data removed]"
    }
   },
   "cell_type": "markdown",
   "metadata": {},
   "source": [
    "![image.png](attachment:image.png)"
   ]
  },
  {
   "cell_type": "code",
   "execution_count": null,
   "metadata": {},
   "outputs": [],
   "source": []
  },
  {
   "cell_type": "code",
   "execution_count": null,
   "metadata": {},
   "outputs": [],
   "source": []
  },
  {
   "cell_type": "markdown",
   "metadata": {},
   "source": [
    "__[6] metal_2021Jan.csv 파일을 읽어 header 및 data에 다음과 같이 할당합니다__"
   ]
  },
  {
   "cell_type": "raw",
   "metadata": {},
   "source": [
    "실행결과:\n",
    ">> headers\n",
    "['날짜', '구리', '아연', '니켈', '알루미늄', '납', '주석']\n",
    ">> data\n",
    "[['2021-01-04 00:00:00', '7,918.50', '2,775.00', '17,344.00', '1,922.00', '2,023.50', '21,034.00'],\n",
    " ['2021-01-05 00:00:00', '7,914.00', '2,785.00', '17,517.00', '1,921.50', '2,043.50', '21,350.00'],\n",
    " ['2021-01-06 00:00:00', '8,129.50', '2,833.00', '17,796.00', '1,958.50', '2,068.50', '21,440.00'],\n",
    " ['2021-01-07 00:00:00', '8,036.50', '2,838.00', '17,929.00', '1,958.50', '2,026.50', '21,360.00'],\n",
    " ['2021-01-08 00:00:00', '8,146.00', '2,824.50', '17,890.00', '1,968.50', '2,000.00', '21,325.00'],\n",
    " ['2021-01-11 00:00:00', '7,951.50', '2,764.50', '17,164.00', '1,974.00', '1,974.00', '20,965.00'],\n",
    " ['2021-01-12 00:00:00', '7,983.00', '2,771.00', '17,665.00', '1,974.00', '1,963.50', '21,150.00'],\n",
    " ['2021-01-13 00:00:00', '7,960.50', '2,751.50', '17,675.00', '1,974.00', '2,018.00', '21,418.00'],\n",
    " ['2021-01-14 00:00:00', '8,002.50', '2,716.00', '17,951.00', '1,974.00', '2,040.00', '21,298.00'],\n",
    " ['2021-01-15 00:00:00', '7,979.50', '2,698.50', '17,970.00', '1,974.50', '1,981.00', '21,495.00'],\n",
    " ['2021-01-18 00:00:00', '7,972.50', '2,664.50', '18,056.00', '2,005.00', '1,981.50', '21,806.00'],\n",
    " ['2021-01-19 00:00:00', '7,986.50', '2,652.00', '18,075.00', '1,967.50', '1,987.00', '21,600.00'],\n",
    " ['2021-01-20 00:00:00', '8,014.50', '2,684.50', '18,055.00', '1,965.50', '2,013.00', '21,740.00'],\n",
    " ['2021-01-21 00:00:00', '8,051.00', '2,707.50', '18,370.00', '1,963.00', '2,033.00', '22,645.00'],\n",
    " ['2021-01-22 00:00:00', '7,872.00', '2,651.00', '17,906.00', '1,960.50', '2,007.00', '22,000.00'],\n",
    " ['2021-01-25 00:00:00', '7,984.50', '2,690.50', '18,240.00', '1,958.00', '2,040.00', '23,031.00'],\n",
    " ['2021-01-26 00:00:00', '7,957.00', '2,651.00', '18,142.00', '1,955.00', '2,036.00', '23,280.00'],\n",
    " ['2021-01-27 00:00:00', '7,895.00', '2,585.00', '17,818.00', '1,949.00', '2,040.00', '23,270.00'],\n",
    " ['2021-01-28 00:00:00', '7,778.50', '2,546.00', '17,662.00', '1,942.50', '2,009.50', '23,245.00'],\n",
    " ['2021-01-29 00:00:00', '7,877.00', '2,565.00', '17,727.00', '1,926.00', '2,013.00', '23,657.00']]"
   ]
  },
  {
   "cell_type": "code",
   "execution_count": null,
   "metadata": {},
   "outputs": [],
   "source": []
  },
  {
   "cell_type": "markdown",
   "metadata": {},
   "source": [
    "__[7] 주어진 개별 금속 가격의 자료형이 문자열형(string type)입니다. 천 단위 구별자(,)를 제거하고 자료형을 부동소수점 형으로 변환하세요.__"
   ]
  },
  {
   "cell_type": "raw",
   "metadata": {},
   "source": [
    "실행결과:\n",
    "[['2021-01-04 00:00:00', 7918.5, 2775.0, 17344.0, 1922.0, 2023.5, 21034.0],\n",
    " ['2021-01-05 00:00:00', 7914.0, 2785.0, 17517.0, 1921.5, 2043.5, 21350.0],\n",
    " ['2021-01-06 00:00:00', 8129.5, 2833.0, 17796.0, 1958.5, 2068.5, 21440.0],\n",
    " ['2021-01-07 00:00:00', 8036.5, 2838.0, 17929.0, 1958.5, 2026.5, 21360.0],\n",
    " ['2021-01-08 00:00:00', 8146.0, 2824.5, 17890.0, 1968.5, 2000.0, 21325.0],\n",
    " ['2021-01-11 00:00:00', 7951.5, 2764.5, 17164.0, 1974.0, 1974.0, 20965.0],\n",
    " ['2021-01-12 00:00:00', 7983.0, 2771.0, 17665.0, 1974.0, 1963.5, 21150.0],\n",
    " ['2021-01-13 00:00:00', 7960.5, 2751.5, 17675.0, 1974.0, 2018.0, 21418.0],\n",
    " ['2021-01-14 00:00:00', 8002.5, 2716.0, 17951.0, 1974.0, 2040.0, 21298.0],\n",
    " ['2021-01-15 00:00:00', 7979.5, 2698.5, 17970.0, 1974.5, 1981.0, 21495.0],\n",
    " ['2021-01-18 00:00:00', 7972.5, 2664.5, 18056.0, 2005.0, 1981.5, 21806.0],\n",
    " ['2021-01-19 00:00:00', 7986.5, 2652.0, 18075.0, 1967.5, 1987.0, 21600.0],\n",
    " ['2021-01-20 00:00:00', 8014.5, 2684.5, 18055.0, 1965.5, 2013.0, 21740.0],\n",
    " ['2021-01-21 00:00:00', 8051.0, 2707.5, 18370.0, 1963.0, 2033.0, 22645.0],\n",
    " ['2021-01-22 00:00:00', 7872.0, 2651.0, 17906.0, 1960.5, 2007.0, 22000.0],\n",
    " ['2021-01-25 00:00:00', 7984.5, 2690.5, 18240.0, 1958.0, 2040.0, 23031.0],\n",
    " ['2021-01-26 00:00:00', 7957.0, 2651.0, 18142.0, 1955.0, 2036.0, 23280.0],\n",
    " ['2021-01-27 00:00:00', 7895.0, 2585.0, 17818.0, 1949.0, 2040.0, 23270.0],\n",
    " ['2021-01-28 00:00:00', 7778.5, 2546.0, 17662.0, 1942.5, 2009.5, 23245.0],\n",
    " ['2021-01-29 00:00:00', 7877.0, 2565.0, 17727.0, 1926.0, 2013.0, 23657.0]]"
   ]
  },
  {
   "cell_type": "code",
   "execution_count": null,
   "metadata": {},
   "outputs": [],
   "source": []
  },
  {
   "cell_type": "markdown",
   "metadata": {},
   "source": [
    "__[8] 1월 첫번째 거래일의 가격을 100으로 할 때 개별 금속의 1월 한 달 가격을 변환하여 출력하세요__\n",
    "-    1) 단, 소수 세째 자리에서 반올림하세요\n",
    "-     2) 날짜 표기 시 연-월-일까지만 출력하세요(시:분:초 생략)"
   ]
  },
  {
   "cell_type": "raw",
   "metadata": {},
   "source": [
    "실행결과:\n",
    "   날짜      구리    아연      니켈     알루미늄     납     주석\n",
    "----------------------------------------------------------------------\n",
    "2021-01-04  100.0     100.0     100.0     100.0     100.0   100.0\n",
    "2021-01-05  99.94     100.36    101.0     99.97     100.99  101.5\n",
    "2021-01-06  102.66    102.09    102.61    101.9     102.22  101.93\n",
    "2021-01-07  101.49    102.27    103.37    101.9     100.15  101.55\n",
    "2021-01-08  102.87    101.78    103.15    102.42    98.84   101.38\n",
    "2021-01-11  100.42    99.62     98.96     102.71    97.55   99.67\n",
    "2021-01-12  100.81    99.86     101.85    102.71    97.03   100.55\n",
    "2021-01-13  100.53    99.15     101.91    102.71    99.73   101.83\n",
    "2021-01-14  101.06    97.87     103.5     102.71    100.82  101.26\n",
    "2021-01-15  100.77    97.24     103.61    102.73     97.9   102.19\n",
    "2021-01-18  100.68    96.02     104.11    104.32    97.92   103.67\n",
    "2021-01-19  100.86    95.57     104.21    102.37     98.2   102.69\n",
    "2021-01-20  101.21    96.74     104.1     102.26    99.48   103.36\n",
    "2021-01-21  101.67    97.57     105.92    102.13    100.47  107.66\n",
    "2021-01-22  99.41     95.53     103.24    102.0     99.18   104.59\n",
    "2021-01-25  100.83    96.95     105.17    101.87    100.82  109.49\n",
    "2021-01-26  100.49    95.53     104.6     101.72    100.62  110.68\n",
    "2021-01-27   99.7     93.15     102.73    101.4     100.82  110.63\n",
    "2021-01-28  98.23     91.75     101.83    101.07    99.31   110.51\n",
    "2021-01-29  99.48     92.43     102.21    100.21    99.48   112.47"
   ]
  },
  {
   "cell_type": "code",
   "execution_count": null,
   "metadata": {},
   "outputs": [],
   "source": []
  },
  {
   "cell_type": "markdown",
   "metadata": {},
   "source": [
    "__[9] 임의의 비철금속 종류를 입력받아 1월 한 달간 해당 비철금속이 전날 대비 가격이 오른 날짜가 몇 일인지 출력하세요__<br>\n",
    "- 단, 1월 첫번째 거래일은 포함하지 않습니다. \n"
   ]
  },
  {
   "cell_type": "raw",
   "metadata": {},
   "source": [
    "실행결과:\n",
    ">> 관심있는 비철금속 종류를 입력하세요.납\n",
    "총 11일 올랐습니다.\n",
    ">> 관심있는 비철금속 종류를 입력하세요.구리\n",
    "총 9일 올랐습니다. "
   ]
  },
  {
   "cell_type": "code",
   "execution_count": null,
   "metadata": {},
   "outputs": [],
   "source": []
  },
  {
   "cell_type": "markdown",
   "metadata": {},
   "source": [
    "__[10] 1월 중 전날 대비 가격이 오른 비철금속 종류가 가장 많았던 날짜는 몇 일입니까?__<br>\n",
    "- 단, 1월 첫번째 거래일은 포함하지 않습니다. "
   ]
  },
  {
   "cell_type": "raw",
   "metadata": {},
   "source": [
    "실행결과:\n",
    ">> 날짜: 1월 6일\n",
    "   전날보다 가격이 오른 종류의 갯수 : 6 종류"
   ]
  },
  {
   "cell_type": "code",
   "execution_count": null,
   "metadata": {},
   "outputs": [],
   "source": []
  },
  {
   "cell_type": "markdown",
   "metadata": {},
   "source": [
    "# 수고하셨습니다.\n",
    "### 두 개의 과제 파일(day8_이름, metal_HW_이름)을 day8_이름.zip으로 묶어  이메일로 제출바랍니다."
   ]
  },
  {
   "cell_type": "code",
   "execution_count": null,
   "metadata": {},
   "outputs": [],
   "source": []
  }
 ],
 "metadata": {
  "kernelspec": {
   "display_name": "Python 3",
   "language": "python",
   "name": "python3"
  },
  "language_info": {
   "codemirror_mode": {
    "name": "ipython",
    "version": 3
   },
   "file_extension": ".py",
   "mimetype": "text/x-python",
   "name": "python",
   "nbconvert_exporter": "python",
   "pygments_lexer": "ipython3",
   "version": "3.7.6"
  }
 },
 "nbformat": 4,
 "nbformat_minor": 4
}
